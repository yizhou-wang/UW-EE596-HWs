{
 "cells": [
  {
   "cell_type": "code",
   "execution_count": 1,
   "metadata": {},
   "outputs": [],
   "source": [
    "import tensorflow as tf\n",
    "import pickle\n",
    "import numpy as np\n",
    "import time\n",
    "import load_cifar"
   ]
  },
  {
   "cell_type": "code",
   "execution_count": 2,
   "metadata": {},
   "outputs": [],
   "source": [
    "tf.reset_default_graph()"
   ]
  },
  {
   "cell_type": "markdown",
   "metadata": {},
   "source": [
    "<h1>Hyperparameter</h1>"
   ]
  },
  {
   "cell_type": "code",
   "execution_count": 3,
   "metadata": {},
   "outputs": [],
   "source": [
    "lr = 0.001\n",
    "epochs = 50\n",
    "batch_size = 32\n",
    "num_classes = 10\n",
    "W = 32\n",
    "H = 32\n",
    "channel = 3"
   ]
  },
  {
   "cell_type": "markdown",
   "metadata": {},
   "source": [
    "<h1>Placeholder</h1>"
   ]
  },
  {
   "cell_type": "code",
   "execution_count": 4,
   "metadata": {},
   "outputs": [],
   "source": [
    "X = tf.placeholder(tf.float32,[None,W, H, channel],name='X')\n",
    "Y = tf.placeholder(tf.int32,[None,num_classes],name='Y')"
   ]
  },
  {
   "cell_type": "markdown",
   "metadata": {},
   "source": [
    "<h1>LeNet-5</h1>"
   ]
  },
  {
   "cell_type": "code",
   "execution_count": 5,
   "metadata": {},
   "outputs": [],
   "source": [
    "def LeNet(x):    \n",
    "    # Conv Layer 1\n",
    "    conv1_w = tf.Variable(tf.truncated_normal(shape=[5,5,channel,6], mean=0, stddev=0.1))\n",
    "    conv1_b = tf.Variable(tf.zeros(6))\n",
    "    conv1 = tf.nn.conv2d(x,conv1_w, strides=[1,1,1,1], padding='VALID') + conv1_b\n",
    "    conv1 = tf.nn.relu(conv1)\n",
    "\n",
    "    # Pooling Layer 1\n",
    "    pool_1 = tf.nn.max_pool(conv1, ksize=[1,2,2,1], strides=[1,2,2,1], padding='VALID')\n",
    "    \n",
    "    # Conv Layer 2\n",
    "    conv2_w = tf.Variable(tf.truncated_normal(shape=[5,5,6,16], mean=0, stddev=0.1))\n",
    "    conv2_b = tf.Variable(tf.zeros(16))\n",
    "    conv2 = tf.nn.conv2d(pool_1, conv2_w, strides=[1,1,1,1], padding='VALID') + conv2_b\n",
    "    conv2 = tf.nn.relu(conv2)\n",
    "\n",
    "    # Pooling Layer 2\n",
    "    pool_2 = tf.nn.max_pool(conv2, ksize=[1,2,2,1], strides=[1,2,2,1], padding='VALID') \n",
    "    \n",
    "    # Conv Layer 3\n",
    "    conv3 = tf.contrib.layers.flatten(pool_2)\n",
    "    conv3_w = tf.Variable(tf.truncated_normal(shape=(400,120), mean=0, stddev=0.1))\n",
    "    conv3_b = tf.Variable(tf.zeros(120))\n",
    "    conv3 = tf.matmul(conv3,conv3_w) + conv3_b\n",
    "    conv3 = tf.nn.relu(conv3)\n",
    "\n",
    "    # Fully Connected Layer 1\n",
    "    fc2_w = tf.Variable(tf.truncated_normal(shape=(120,84), mean=0, stddev=0.1))\n",
    "    fc2_b = tf.Variable(tf.zeros(84))\n",
    "    fc2 = tf.matmul(conv3,fc2_w) + fc2_b\n",
    "    fc2 = tf.nn.relu(fc2)\n",
    "    \n",
    "    # Fully Connected Layer 2\n",
    "    fc3_w = tf.Variable(tf.truncated_normal(shape=(84,10), mean=0, stddev=0.1))\n",
    "    fc3_b = tf.Variable(tf.zeros(10))\n",
    "    logits = tf.matmul(fc2, fc3_w) + fc3_b\n",
    "    return logits"
   ]
  },
  {
   "cell_type": "markdown",
   "metadata": {},
   "source": [
    "<h1>Cost and Optimization</h1>"
   ]
  },
  {
   "cell_type": "code",
   "execution_count": 6,
   "metadata": {},
   "outputs": [],
   "source": [
    "logits = LeNet(X)\n",
    "loss = tf.reduce_mean(tf.nn.softmax_cross_entropy_with_logits_v2(logits=logits, labels=Y))\n",
    "optimizer = tf.train.AdamOptimizer(learning_rate = lr)\n",
    "train_op = optimizer.minimize(loss)\n",
    "\n",
    "correct_pred = tf.equal(tf.argmax(logits, 1), tf.argmax(Y, 1))\n",
    "accuracy = tf.reduce_mean(tf.cast(correct_pred, tf.float32))"
   ]
  },
  {
   "cell_type": "markdown",
   "metadata": {},
   "source": [
    "<h1>Training, validation and testing</h1>\n",
    "<h2>Train your model only 10 epochs.</h2>\n",
    "<h2>1.Print out validation accuracy after each training epoch</h2>\n",
    "<h2>2.Print out training time for each training epoch</h2>\n",
    "<h2>3.Print out testing accuracy</h2>"
   ]
  },
  {
   "cell_type": "code",
   "execution_count": 7,
   "metadata": {},
   "outputs": [],
   "source": [
    "val_features, val_labels = pickle.load(open('val_data.pickle','rb'))\n",
    "train_features,train_labels = pickle.load(open('train_data.pickle','rb'))\n",
    "test_features, test_labels = pickle.load(open('test_data.pickle','rb'))\n",
    "train_features = load_cifar.features_reshape(train_features)\n",
    "val_features = load_cifar.features_reshape(val_features)\n",
    "test_features = load_cifar.features_reshape(test_features)\n",
    "val_labels = np.squeeze(val_labels.todense())\n",
    "train_labels = np.squeeze(train_labels.todense())\n",
    "test_labels = np.squeeze(test_labels.todense())"
   ]
  },
  {
   "cell_type": "code",
   "execution_count": 8,
   "metadata": {},
   "outputs": [],
   "source": [
    "def next_batch(batch_size, data, labels):\n",
    "    idx = np.arange(0 , len(data))\n",
    "    np.random.shuffle(idx)\n",
    "    idx = idx[:batch_size]\n",
    "    data_shuffle = [data[i] for i in idx]\n",
    "    labels_shuffle = [labels[i] for i in idx]\n",
    "    data_shuffle = np.asarray(data_shuffle)\n",
    "    labels_shuffle = np.asarray(labels_shuffle)\n",
    "    labels_shuffle = np.squeeze(labels_shuffle)\n",
    "    return data_shuffle, labels_shuffle"
   ]
  },
  {
   "cell_type": "code",
   "execution_count": 9,
   "metadata": {},
   "outputs": [
    {
     "name": "stdout",
     "output_type": "stream",
     "text": [
      "epoch 1, loss: 1.409, acc: 0.469, acc_val:0.490, time: 4.046\t\n",
      "epoch 2, loss: 1.251, acc: 0.500, acc_val:0.534, time: 3.223\t\n",
      "epoch 3, loss: 1.172, acc: 0.594, acc_val:0.572, time: 3.101\t\n",
      "epoch 4, loss: 0.977, acc: 0.625, acc_val:0.575, time: 3.060\t\n",
      "epoch 5, loss: 0.819, acc: 0.812, acc_val:0.572, time: 3.082\t\n",
      "epoch 6, loss: 1.031, acc: 0.719, acc_val:0.584, time: 3.024\t\n",
      "epoch 7, loss: 0.997, acc: 0.625, acc_val:0.600, time: 3.101\t\n",
      "epoch 8, loss: 1.057, acc: 0.719, acc_val:0.590, time: 3.233\t\n",
      "epoch 9, loss: 0.773, acc: 0.719, acc_val:0.602, time: 3.423\t\n",
      "epoch 10, loss: 0.699, acc: 0.719, acc_val:0.605, time: 3.638\t\n",
      "epoch 11, loss: 0.627, acc: 0.750, acc_val:0.614, time: 3.647\t\n",
      "epoch 12, loss: 0.649, acc: 0.750, acc_val:0.621, time: 3.470\t\n",
      "epoch 13, loss: 0.746, acc: 0.750, acc_val:0.597, time: 3.817\t\n",
      "epoch 14, loss: 0.406, acc: 0.875, acc_val:0.623, time: 3.734\t\n",
      "epoch 15, loss: 0.552, acc: 0.812, acc_val:0.623, time: 3.440\t\n",
      "epoch 16, loss: 0.458, acc: 0.844, acc_val:0.617, time: 3.343\t\n",
      "epoch 17, loss: 0.612, acc: 0.688, acc_val:0.617, time: 3.596\t\n",
      "epoch 18, loss: 0.390, acc: 0.875, acc_val:0.608, time: 3.760\t\n",
      "epoch 19, loss: 0.577, acc: 0.781, acc_val:0.600, time: 3.343\t\n",
      "epoch 20, loss: 0.661, acc: 0.688, acc_val:0.617, time: 3.595\t\n",
      "epoch 21, loss: 0.598, acc: 0.844, acc_val:0.604, time: 3.447\t\n",
      "epoch 22, loss: 0.572, acc: 0.781, acc_val:0.604, time: 3.369\t\n",
      "epoch 23, loss: 0.482, acc: 0.844, acc_val:0.603, time: 3.605\t\n",
      "epoch 24, loss: 0.310, acc: 0.938, acc_val:0.608, time: 3.522\t\n",
      "epoch 25, loss: 0.438, acc: 0.812, acc_val:0.603, time: 3.501\t\n",
      "epoch 26, loss: 0.402, acc: 0.875, acc_val:0.591, time: 3.656\t\n",
      "epoch 27, loss: 0.589, acc: 0.844, acc_val:0.602, time: 3.749\t\n",
      "epoch 28, loss: 0.636, acc: 0.750, acc_val:0.586, time: 3.323\t\n",
      "epoch 29, loss: 0.297, acc: 0.875, acc_val:0.586, time: 3.391\t\n",
      "epoch 30, loss: 0.539, acc: 0.812, acc_val:0.592, time: 3.460\t\n",
      "epoch 31, loss: 0.196, acc: 0.969, acc_val:0.594, time: 3.278\t\n",
      "epoch 32, loss: 0.343, acc: 0.875, acc_val:0.587, time: 3.438\t\n",
      "epoch 33, loss: 0.211, acc: 0.875, acc_val:0.591, time: 3.408\t\n",
      "epoch 34, loss: 0.916, acc: 0.781, acc_val:0.587, time: 3.333\t\n",
      "epoch 35, loss: 0.286, acc: 0.906, acc_val:0.591, time: 3.440\t\n",
      "epoch 36, loss: 0.262, acc: 0.875, acc_val:0.591, time: 3.624\t\n",
      "epoch 37, loss: 0.287, acc: 0.875, acc_val:0.592, time: 3.296\t\n",
      "epoch 38, loss: 0.340, acc: 0.938, acc_val:0.587, time: 3.114\t\n",
      "epoch 39, loss: 0.373, acc: 0.812, acc_val:0.583, time: 3.426\t\n",
      "epoch 40, loss: 0.144, acc: 0.969, acc_val:0.591, time: 3.278\t\n",
      "epoch 41, loss: 0.250, acc: 0.938, acc_val:0.583, time: 3.139\t\n",
      "epoch 42, loss: 0.327, acc: 0.875, acc_val:0.578, time: 3.268\t\n",
      "epoch 43, loss: 0.204, acc: 0.938, acc_val:0.581, time: 3.092\t\n",
      "epoch 44, loss: 0.236, acc: 0.938, acc_val:0.590, time: 3.262\t\n",
      "epoch 45, loss: 0.412, acc: 0.875, acc_val:0.591, time: 3.254\t\n",
      "epoch 46, loss: 0.305, acc: 0.906, acc_val:0.586, time: 3.417\t\n",
      "epoch 47, loss: 0.180, acc: 0.938, acc_val:0.590, time: 3.355\t\n",
      "epoch 48, loss: 0.121, acc: 1.000, acc_val:0.582, time: 3.389\t\n",
      "epoch 49, loss: 0.161, acc: 0.906, acc_val:0.577, time: 3.480\t\n",
      "epoch 50, loss: 0.171, acc: 0.938, acc_val:0.581, time: 3.405\t\n",
      "acc_test: 0.574\n"
     ]
    }
   ],
   "source": [
    "init = tf.global_variables_initializer()\n",
    "\n",
    "total_batch = int(40000/batch_size)\n",
    "num_steps = (epochs+1) * total_batch\n",
    "\n",
    "acc_val_list = []\n",
    "\n",
    "with tf.Session() as sess:\n",
    "    sess.run(init)\n",
    "    time_start = time.time()\n",
    "    for i in range(num_steps):\n",
    "        # fetch batch\n",
    "        batch_x, batch_y = next_batch(batch_size, train_features, train_labels)\n",
    "        # run optimization\n",
    "        sess.run(train_op, feed_dict={X: batch_x, Y: batch_y})\n",
    "        if (i > 0) and (i % total_batch) == 0:\n",
    "            time_end = time.time()\n",
    "            l, acc = sess.run([loss, accuracy], feed_dict={X: batch_x, Y: batch_y})\n",
    "            acc_val = sess.run(accuracy, feed_dict={X: val_features, Y: val_labels})\n",
    "            acc_val_list.append(acc_val)\n",
    "            print(\"epoch \" + str(int(i/total_batch)) + \", loss: {:.3f}\".format(l) + \\\n",
    "                  \", acc: {:.3f}\".format(acc) + \", acc_val:{:.3f}\".format(acc_val) + \\\n",
    "                  \", time: {:.3f}\\t\".format(time_end-time_start))\n",
    "            time_start = time.time()\n",
    "\n",
    "    acc_test = sess.run(accuracy, feed_dict={X: test_features, Y: test_labels})\n",
    "    print(\"acc_test: {:.3f}\".format(acc_test))"
   ]
  },
  {
   "cell_type": "code",
   "execution_count": 10,
   "metadata": {},
   "outputs": [
    {
     "data": {
      "text/plain": [
       "Text(0, 0.5, 'Validation Accuracy (%)')"
      ]
     },
     "execution_count": 10,
     "metadata": {},
     "output_type": "execute_result"
    },
    {
     "data": {
      "image/png": "[encoded data removed]",
      "text/plain": [
       "<Figure size 720x432 with 1 Axes>"
      ]
     },
     "metadata": {
      "needs_background": "light"
     },
     "output_type": "display_data"
    }
   ],
   "source": [
    "import matplotlib.pyplot as plt\n",
    "\n",
    "plt.figure(figsize=(10, 6))\n",
    "plt.plot(np.arange(len(acc_val_list)), acc_val_list)\n",
    "plt.xlabel(\"Epoch\")\n",
    "plt.ylabel(\"Validation Accuracy (%)\")"
   ]
  },
  {
   "cell_type": "markdown",
   "metadata": {},
   "source": [
    "We can see that the accuracy reaches 60% around 10 epoches, but drops a little bit probably because of overfitting."
   ]
  },
  {
   "cell_type": "code",
   "execution_count": null,
   "metadata": {},
   "outputs": [],
   "source": []
  }
 ],
 "metadata": {
  "kernelspec": {
   "display_name": "Python 3",
   "language": "python",
   "name": "python3"
  },
  "language_info": {
   "codemirror_mode": {
    "name": "ipython",
    "version": 3
   },
   "file_extension": ".py",
   "mimetype": "text/x-python",
   "name": "python",
   "nbconvert_exporter": "python",
   "pygments_lexer": "ipython3",
   "version": "3.5.2"
  }
 },
 "nbformat": 4,
 "nbformat_minor": 2
}
