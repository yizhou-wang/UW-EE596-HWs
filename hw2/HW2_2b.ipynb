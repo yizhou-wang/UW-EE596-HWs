{
 "cells": [
  {
   "cell_type": "code",
   "execution_count": 1,
   "metadata": {},
   "outputs": [],
   "source": [
    "import tensorflow as tf\n",
    "import pickle\n",
    "import numpy as np\n",
    "import time\n",
    "import load_cifar"
   ]
  },
  {
   "cell_type": "code",
   "execution_count": 2,
   "metadata": {},
   "outputs": [],
   "source": [
    "tf.reset_default_graph()"
   ]
  },
  {
   "cell_type": "markdown",
   "metadata": {},
   "source": [
    "<h1>Define Hyper-perparmeter</h1>"
   ]
  },
  {
   "cell_type": "code",
   "execution_count": 3,
   "metadata": {},
   "outputs": [],
   "source": [
    "num_classes = 10\n",
    "num_features = 3072\n",
    "num_output = 10\n",
    "n_hidden_1 = 1000\n",
    "n_hidden_2 = 500\n",
    "n_hidden_3 = 250\n",
    "n_hidden_4 = 100\n",
    "n_hidden_5 = 50\n",
    "n_hidden_6 = 20\n",
    "lr = 0.001\n",
    "batch_size = 32\n",
    "epochs = 50\n",
    "dropout_prob = 0.3"
   ]
  },
  {
   "cell_type": "markdown",
   "metadata": {},
   "source": [
    "<h1>Define Placeholder</h1>"
   ]
  },
  {
   "cell_type": "code",
   "execution_count": 4,
   "metadata": {},
   "outputs": [],
   "source": [
    "# Placeholders for the input data\n",
    "X = tf.placeholder('float32',shape =(None,num_features),name=\"X\")\n",
    "Y = tf.placeholder('float32',shape = (None,num_classes),name=\"Y\")\n",
    "## for dropout layer\n",
    "# keep_prob = tf.placeholder(tf.float32)\n",
    "## Weights initialized by random normal function with std_dev = 1/sqrt(number of input features)\n",
    "#Layers weight & bias\n",
    "weights = {\n",
    "    'W1': tf.Variable(tf.random_normal([num_features, n_hidden_1],stddev=0.1),name='W1'),\n",
    "    'W2': tf.Variable(tf.random_normal([n_hidden_1, n_hidden_2],stddev=0.1),name='W2'),\n",
    "    'W3': tf.Variable(tf.random_normal([n_hidden_2, n_hidden_3],stddev=0.1), name='W3'),\n",
    "    'W4': tf.Variable(tf.random_normal([n_hidden_3, n_hidden_4],stddev=0.1), name='W4'),\n",
    "    'W5': tf.Variable(tf.random_normal([n_hidden_4, n_hidden_5],stddev=0.1), name='W5'),\n",
    "    'W6': tf.Variable(tf.random_normal([n_hidden_5, n_hidden_6],stddev=0.1), name='W6'),\n",
    "    'Wout': tf.Variable(tf.random_normal([n_hidden_6, num_classes],stddev=0.1),name='Wout')\n",
    "}\n",
    "\n",
    "biases = {\n",
    "    'b1': tf.Variable(tf.zeros(shape=[n_hidden_1]),name='b1'),\n",
    "    'b2': tf.Variable(tf.zeros(shape=[n_hidden_2]),name='b2'),\n",
    "    'b3': tf.Variable(tf.zeros(shape=[n_hidden_3]),name='b3'),\n",
    "    'b4': tf.Variable(tf.zeros(shape=[n_hidden_4]),name='b4'),\n",
    "    'b5': tf.Variable(tf.zeros(shape=[n_hidden_5]), name='b5'),\n",
    "    'b6': tf.Variable(tf.zeros(shape=[n_hidden_6]), name='b6'),\n",
    "    'bout': tf.Variable(tf.zeros(shape=[num_classes]),name='bout')\n",
    "}"
   ]
  },
  {
   "cell_type": "markdown",
   "metadata": {},
   "source": [
    "<h1>Define Neural Network Architecture</h1>"
   ]
  },
  {
   "cell_type": "code",
   "execution_count": 5,
   "metadata": {},
   "outputs": [],
   "source": [
    "def neural_net(x):\n",
    "    layer_1_out = tf.nn.relu(tf.add(tf.matmul(x,weights['W1']),biases['b1']))\n",
    "    layer_2_out = tf.nn.relu(tf.add(tf.matmul(layer_1_out,weights['W2']),biases['b2']))\n",
    "    layer_3_out = tf.nn.relu(tf.add(tf.matmul(layer_2_out, weights['W3']), biases['b3']))\n",
    "    layer_4_out = tf.nn.relu(tf.add(tf.matmul(layer_3_out, weights['W4']), biases['b4']))\n",
    "    layer_5_out = tf.nn.relu(tf.add(tf.matmul(layer_4_out, weights['W5']), biases['b5']))\n",
    "    layer_6_out = tf.nn.relu(tf.add(tf.matmul(layer_5_out, weights['W6']), biases['b6']))\n",
    "    out = tf.add(tf.matmul(layer_6_out,weights['Wout']),biases['bout'])\n",
    "    return out\n",
    "\n",
    "#predicted labels\n",
    "logits = neural_net(X)\n",
    "Y_hat = tf.nn.softmax(logits)"
   ]
  },
  {
   "cell_type": "markdown",
   "metadata": {},
   "source": [
    "<h1>Define cost andoptimization</h1>"
   ]
  },
  {
   "cell_type": "code",
   "execution_count": 6,
   "metadata": {},
   "outputs": [],
   "source": [
    "## Defining the loss function\n",
    "loss = tf.reduce_mean(tf.nn.softmax_cross_entropy_with_logits_v2(logits=logits,labels=Y))\n",
    "#define optimizer\n",
    "optimizer = tf.train.AdamOptimizer(learning_rate=lr)\n",
    "train_op = optimizer.minimize(loss)\n",
    "\n",
    "#compare the predicted labels with true labels\n",
    "correct_pred = tf.equal(tf.argmax(Y_hat,1),tf.argmax(Y,1))\n",
    "\n",
    "#compute the accuracy by taking average\n",
    "accuracy = tf.reduce_mean(tf.cast(correct_pred,tf.float32),name='accuracy')"
   ]
  },
  {
   "cell_type": "markdown",
   "metadata": {},
   "source": [
    "<h1>Training and testing</h1>\n",
    "<h2>1.Print out validation accuracy after each training poch</h2>\n",
    "<h2>2.Print out training time you spend on each epoch</h2>\n",
    "<h2>3.Print out testing accuracy in the end</h2>"
   ]
  },
  {
   "cell_type": "code",
   "execution_count": 7,
   "metadata": {},
   "outputs": [],
   "source": [
    "val_features, val_labels = pickle.load(open('val_data.pickle','rb'))\n",
    "training_features,training_labels = pickle.load(open('train_data.pickle','rb'))\n",
    "test_features, test_labels = pickle.load(open('test_data.pickle','rb'))\n",
    "val_labels = np.squeeze(val_labels.todense())\n",
    "training_labels = np.squeeze(training_labels.todense())\n",
    "test_labels = np.squeeze(test_labels.todense())"
   ]
  },
  {
   "cell_type": "code",
   "execution_count": 8,
   "metadata": {},
   "outputs": [],
   "source": [
    "def next_batch(num, data, labels):\n",
    "    idx = np.arange(0 , len(data))\n",
    "    np.random.shuffle(idx)\n",
    "    idx = idx[:num]\n",
    "    data_shuffle = [data[i] for i in idx]\n",
    "    labels_shuffle = [labels[i] for i in idx]\n",
    "    data_shuffle = np.asarray(data_shuffle)\n",
    "    labels_shuffle = np.asarray(labels_shuffle)\n",
    "    labels_shuffle = np.squeeze(labels_shuffle)\n",
    "    \n",
    "    return data_shuffle, labels_shuffle"
   ]
  },
  {
   "cell_type": "code",
   "execution_count": 9,
   "metadata": {},
   "outputs": [
    {
     "name": "stdout",
     "output_type": "stream",
     "text": [
      "epoch 1, loss: 1.863, acc: 0.250, acc_val:0.314, time: 3.981\t\n",
      "epoch 2, loss: 1.687, acc: 0.469, acc_val:0.398, time: 3.808\t\n",
      "epoch 3, loss: 1.625, acc: 0.375, acc_val:0.404, time: 4.009\t\n",
      "epoch 4, loss: 1.949, acc: 0.281, acc_val:0.401, time: 3.831\t\n",
      "epoch 5, loss: 1.590, acc: 0.438, acc_val:0.436, time: 4.039\t\n",
      "epoch 6, loss: 1.307, acc: 0.562, acc_val:0.446, time: 4.027\t\n",
      "epoch 7, loss: 1.288, acc: 0.500, acc_val:0.463, time: 3.981\t\n",
      "epoch 8, loss: 1.306, acc: 0.594, acc_val:0.475, time: 3.882\t\n",
      "epoch 9, loss: 1.197, acc: 0.562, acc_val:0.477, time: 3.699\t\n",
      "epoch 10, loss: 1.451, acc: 0.531, acc_val:0.476, time: 3.904\t\n",
      "epoch 11, loss: 1.321, acc: 0.594, acc_val:0.490, time: 3.976\t\n",
      "epoch 12, loss: 1.299, acc: 0.531, acc_val:0.476, time: 3.845\t\n",
      "epoch 13, loss: 1.211, acc: 0.531, acc_val:0.482, time: 3.937\t\n",
      "epoch 14, loss: 1.601, acc: 0.406, acc_val:0.479, time: 4.026\t\n",
      "epoch 15, loss: 0.957, acc: 0.688, acc_val:0.497, time: 3.833\t\n",
      "epoch 16, loss: 1.075, acc: 0.625, acc_val:0.486, time: 3.862\t\n",
      "epoch 17, loss: 1.079, acc: 0.688, acc_val:0.509, time: 3.895\t\n",
      "epoch 18, loss: 0.689, acc: 0.781, acc_val:0.498, time: 4.059\t\n",
      "epoch 19, loss: 1.176, acc: 0.500, acc_val:0.492, time: 3.740\t\n",
      "epoch 20, loss: 1.009, acc: 0.594, acc_val:0.492, time: 3.838\t\n",
      "epoch 21, loss: 0.950, acc: 0.719, acc_val:0.488, time: 4.069\t\n",
      "epoch 22, loss: 0.917, acc: 0.750, acc_val:0.489, time: 3.857\t\n",
      "epoch 23, loss: 0.548, acc: 0.906, acc_val:0.494, time: 4.046\t\n",
      "epoch 24, loss: 0.995, acc: 0.750, acc_val:0.491, time: 4.178\t\n",
      "epoch 25, loss: 1.252, acc: 0.500, acc_val:0.508, time: 4.048\t\n",
      "epoch 26, loss: 0.774, acc: 0.656, acc_val:0.506, time: 3.869\t\n",
      "epoch 27, loss: 0.737, acc: 0.688, acc_val:0.495, time: 3.926\t\n",
      "epoch 28, loss: 0.915, acc: 0.625, acc_val:0.498, time: 3.969\t\n",
      "epoch 29, loss: 0.946, acc: 0.625, acc_val:0.490, time: 3.846\t\n",
      "epoch 30, loss: 1.041, acc: 0.656, acc_val:0.495, time: 3.719\t\n",
      "epoch 31, loss: 0.759, acc: 0.719, acc_val:0.503, time: 3.756\t\n",
      "epoch 32, loss: 1.163, acc: 0.688, acc_val:0.500, time: 4.134\t\n",
      "epoch 33, loss: 0.792, acc: 0.750, acc_val:0.486, time: 3.759\t\n",
      "epoch 34, loss: 0.628, acc: 0.812, acc_val:0.509, time: 3.875\t\n",
      "epoch 35, loss: 0.804, acc: 0.688, acc_val:0.499, time: 3.876\t\n",
      "epoch 36, loss: 0.882, acc: 0.656, acc_val:0.497, time: 3.800\t\n",
      "epoch 37, loss: 0.486, acc: 0.844, acc_val:0.492, time: 3.718\t\n",
      "epoch 38, loss: 0.514, acc: 0.812, acc_val:0.503, time: 3.963\t\n",
      "epoch 39, loss: 0.797, acc: 0.719, acc_val:0.499, time: 3.887\t\n",
      "epoch 40, loss: 0.409, acc: 0.906, acc_val:0.499, time: 4.006\t\n",
      "epoch 41, loss: 0.453, acc: 0.875, acc_val:0.495, time: 3.949\t\n",
      "epoch 42, loss: 0.375, acc: 0.875, acc_val:0.488, time: 4.177\t\n",
      "epoch 43, loss: 0.574, acc: 0.750, acc_val:0.489, time: 3.833\t\n",
      "epoch 44, loss: 0.379, acc: 0.875, acc_val:0.495, time: 3.933\t\n",
      "epoch 45, loss: 0.382, acc: 0.906, acc_val:0.490, time: 3.739\t\n",
      "epoch 46, loss: 0.398, acc: 0.875, acc_val:0.499, time: 4.203\t\n",
      "epoch 47, loss: 0.533, acc: 0.812, acc_val:0.484, time: 4.042\t\n",
      "epoch 48, loss: 0.258, acc: 0.906, acc_val:0.500, time: 3.818\t\n",
      "epoch 49, loss: 0.370, acc: 0.906, acc_val:0.499, time: 3.894\t\n",
      "epoch 50, loss: 0.224, acc: 0.969, acc_val:0.505, time: 3.879\t\n",
      "acc_test: 0.480\n"
     ]
    }
   ],
   "source": [
    "init = tf.global_variables_initializer()\n",
    "\n",
    "total_batch = int(40000 / batch_size)\n",
    "num_steps = (epochs + 1) * total_batch\n",
    "\n",
    "acc_val_list = []\n",
    "\n",
    "with tf.Session() as sess:\n",
    "    sess.run(init)\n",
    "    time_start = time.time()\n",
    "    for i in range(num_steps):\n",
    "        # fetch batch\n",
    "        batch_x, batch_y = next_batch(batch_size, training_features, training_labels)\n",
    "        # run optimization\n",
    "        sess.run(train_op, feed_dict={X: batch_x, Y: batch_y})\n",
    "        if (i > 1) and (i % total_batch == 0):\n",
    "            time_end = time.time()\n",
    "            l, acc = sess.run([loss, accuracy], feed_dict={X: batch_x, Y: batch_y})\n",
    "            acc_val = sess.run(accuracy, feed_dict={X: val_features, Y: val_labels})\n",
    "            acc_val_list.append(acc_val)\n",
    "            print(\"epoch \" + str(int(i/total_batch)) + \", loss: {:.3f}\".format(l) + \\\n",
    "                  \", acc: {:.3f}\".format(acc) + \", acc_val:{:.3f}\".format(acc_val) + \\\n",
    "                  \", time: {:.3f}\\t\".format(time_end-time_start))\n",
    "            time_start = time.time()\n",
    "\n",
    "    acc_test = sess.run(accuracy, feed_dict={X: test_features, Y: test_labels})\n",
    "    print(\"acc_test: {:.3f}\".format(acc_test))"
   ]
  },
  {
   "cell_type": "code",
   "execution_count": 11,
   "metadata": {},
   "outputs": [
    {
     "data": {
      "text/plain": [
       "Text(0, 0.5, 'Validation Accuracy (%)')"
      ]
     },
     "execution_count": 11,
     "metadata": {},
     "output_type": "execute_result"
    },
    {
     "data": {
      "image/png": "[encoded data removed]",
      "text/plain": [
       "<Figure size 720x432 with 1 Axes>"
      ]
     },
     "metadata": {
      "needs_background": "light"
     },
     "output_type": "display_data"
    }
   ],
   "source": [
    "import matplotlib.pyplot as plt\n",
    "\n",
    "plt.figure(figsize=(10, 6))\n",
    "plt.plot(np.arange(len(acc_val_list)), acc_val_list)\n",
    "plt.xlabel(\"Epoch\")\n",
    "plt.ylabel(\"Validation Accuracy (%)\")"
   ]
  },
  {
   "cell_type": "markdown",
   "metadata": {
    "scrolled": false
   },
   "source": [
    "We can see that the validation accuracy cannot improve after about 10 epoches and remains at 50%. This is due to the limitation of the full connected neural networks."
   ]
  },
  {
   "cell_type": "code",
   "execution_count": null,
   "metadata": {},
   "outputs": [],
   "source": []
  }
 ],
 "metadata": {
  "kernelspec": {
   "display_name": "Python 3",
   "language": "python",
   "name": "python3"
  },
  "language_info": {
   "codemirror_mode": {
    "name": "ipython",
    "version": 3
   },
   "file_extension": ".py",
   "mimetype": "text/x-python",
   "name": "python",
   "nbconvert_exporter": "python",
   "pygments_lexer": "ipython3",
   "version": "3.5.2"
  }
 },
 "nbformat": 4,
 "nbformat_minor": 2
}
