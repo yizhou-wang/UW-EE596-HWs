{
 "cells": [
  {
   "cell_type": "code",
   "execution_count": 1,
   "metadata": {},
   "outputs": [],
   "source": [
    "import tensorflow as tf\n",
    "import numpy as np\n",
    "import pandas as pd\n",
    "from pandas import get_dummies\n",
    "import matplotlib.pyplot as plt\n",
    "from sklearn.model_selection import train_test_split"
   ]
  },
  {
   "cell_type": "markdown",
   "metadata": {},
   "source": [
    "<h1>Load data</h1>"
   ]
  },
  {
   "cell_type": "code",
   "execution_count": 2,
   "metadata": {},
   "outputs": [],
   "source": [
    "file_name = \"iris.data.csv\""
   ]
  },
  {
   "cell_type": "code",
   "execution_count": 3,
   "metadata": {},
   "outputs": [
    {
     "data": {
      "text/html": [
       "<div>\n",
       "<style scoped>\n",
       "    .dataframe tbody tr th:only-of-type {\n",
       "        vertical-align: middle;\n",
       "    }\n",
       "\n",
       "    .dataframe tbody tr th {\n",
       "        vertical-align: top;\n",
       "    }\n",
       "\n",
       "    .dataframe thead th {\n",
       "        text-align: right;\n",
       "    }\n",
       "</style>\n",
       "<table border=\"1\" class=\"dataframe\">\n",
       "  <thead>\n",
       "    <tr style=\"text-align: right;\">\n",
       "      <th></th>\n",
       "      <th>sepal_length</th>\n",
       "      <th>sepal_width</th>\n",
       "      <th>petal_length</th>\n",
       "      <th>petal_width</th>\n",
       "      <th>species</th>\n",
       "    </tr>\n",
       "  </thead>\n",
       "  <tbody>\n",
       "    <tr>\n",
       "      <th>0</th>\n",
       "      <td>5.1</td>\n",
       "      <td>3.5</td>\n",
       "      <td>1.4</td>\n",
       "      <td>0.2</td>\n",
       "      <td>Iris-setosa</td>\n",
       "    </tr>\n",
       "    <tr>\n",
       "      <th>1</th>\n",
       "      <td>4.9</td>\n",
       "      <td>3.0</td>\n",
       "      <td>1.4</td>\n",
       "      <td>0.2</td>\n",
       "      <td>Iris-setosa</td>\n",
       "    </tr>\n",
       "    <tr>\n",
       "      <th>2</th>\n",
       "      <td>4.7</td>\n",
       "      <td>3.2</td>\n",
       "      <td>1.3</td>\n",
       "      <td>0.2</td>\n",
       "      <td>Iris-setosa</td>\n",
       "    </tr>\n",
       "    <tr>\n",
       "      <th>3</th>\n",
       "      <td>4.6</td>\n",
       "      <td>3.1</td>\n",
       "      <td>1.5</td>\n",
       "      <td>0.2</td>\n",
       "      <td>Iris-setosa</td>\n",
       "    </tr>\n",
       "    <tr>\n",
       "      <th>4</th>\n",
       "      <td>5.0</td>\n",
       "      <td>3.6</td>\n",
       "      <td>1.4</td>\n",
       "      <td>0.2</td>\n",
       "      <td>Iris-setosa</td>\n",
       "    </tr>\n",
       "  </tbody>\n",
       "</table>\n",
       "</div>"
      ],
      "text/plain": [
       "   sepal_length  sepal_width  petal_length  petal_width      species\n",
       "0           5.1          3.5           1.4          0.2  Iris-setosa\n",
       "1           4.9          3.0           1.4          0.2  Iris-setosa\n",
       "2           4.7          3.2           1.3          0.2  Iris-setosa\n",
       "3           4.6          3.1           1.5          0.2  Iris-setosa\n",
       "4           5.0          3.6           1.4          0.2  Iris-setosa"
      ]
     },
     "execution_count": 3,
     "metadata": {},
     "output_type": "execute_result"
    }
   ],
   "source": [
    "#load the dataset into memory\n",
    "dataset = pd.read_csv(file_name,header=None,\\\n",
    "                      names=['sepal_length','sepal_width','petal_length','petal_width','species'])\n",
    "#check several examples of data\n",
    "dataset.head()"
   ]
  },
  {
   "cell_type": "markdown",
   "metadata": {},
   "source": [
    "<h1>Data preprocessing</h1>"
   ]
  },
  {
   "cell_type": "code",
   "execution_count": 4,
   "metadata": {},
   "outputs": [],
   "source": [
    "#simple function to process the data.\n",
    "\"\"\"\n",
    "input:\n",
    "    data: iris dataset\n",
    "    num_features: 2 => select only petal width and petal width.\n",
    "                  4 => select all features\n",
    "    flower: 'Iris-setosa' => labels of Iris-setosa will be 1 and others will be 0\n",
    "            'Iris-virginica' => labels of Iris-virginica will be 1 and others will be 0\n",
    "            'None' => use one-hot encoding to represent the labels\n",
    "\n",
    "return:\n",
    "    x: normalized & shuffled data\n",
    "    y: labels\n",
    "\"\"\"\n",
    "def data_preprocessing(data,num_features,flower=None):\n",
    "    if num_features==2:\n",
    "        features = data.columns[2:4]\n",
    "    else:\n",
    "        features = data.columns[0:4]\n",
    "    labels = dataset.columns[4]\n",
    "    print(features)\n",
    "    print(labels)\n",
    "    #normalize the data\n",
    "    data_norm = pd.DataFrame(data)\n",
    "    for feature in features:\n",
    "        data[feature] = (data[feature]-data[feature].mean())/data[feature].std()\n",
    "\n",
    "    #shuffle the data\n",
    "    indices = data_norm.index.tolist()\n",
    "    indices = np.array(indices)\n",
    "    np.random.shuffle(indices)\n",
    "    x = data_norm.reindex(indices)[features]\n",
    "    y = data_norm.reindex(indices)[labels]\n",
    "    if flower=='Iris-setosa':\n",
    "        for i in range(len(y)):\n",
    "            y[i]=1 if y[i]=='Iris-setosa' else 0\n",
    "        y = y.values.reshape(len(y),1)\n",
    "    elif flower=='Iris-virginica':\n",
    "        for i in range(len(y)):\n",
    "            y[i]=1 if y[i]=='Iris-virginica' else 0\n",
    "        y = y.values.reshape(len(y),1)\n",
    "    else:\n",
    "        y = get_dummies(y)\n",
    "    return x,y"
   ]
  },
  {
   "cell_type": "markdown",
   "metadata": {},
   "source": [
    "<h1>Part a:"
   ]
  },
  {
   "cell_type": "code",
   "execution_count": 58,
   "metadata": {},
   "outputs": [
    {
     "name": "stdout",
     "output_type": "stream",
     "text": [
      "Index(['petal_length', 'petal_width'], dtype='object')\n",
      "species\n"
     ]
    }
   ],
   "source": [
    "x_1,y_1 = data_preprocessing(dataset,2,flower='Iris-setosa')\n",
    "# generate traning and validation sets\n",
    "x_train_1, x_test_1, y_train_1, y_test_1 = train_test_split(x_1,y_1,test_size=0.3)"
   ]
  },
  {
   "cell_type": "markdown",
   "metadata": {},
   "source": [
    "<h2>Define hyper-parameters</h2>"
   ]
  },
  {
   "cell_type": "code",
   "execution_count": 59,
   "metadata": {},
   "outputs": [],
   "source": [
    "NUM_ITER = 50\n",
    "lr = 0.01"
   ]
  },
  {
   "cell_type": "markdown",
   "metadata": {},
   "source": [
    "<h2>Define Placeholder and Variables</h2>"
   ]
  },
  {
   "cell_type": "code",
   "execution_count": 60,
   "metadata": {},
   "outputs": [],
   "source": [
    "tf.reset_default_graph()\n",
    "X = tf.placeholder(tf.float32, shape=[105,2], name='X')\n",
    "Y = tf.placeholder(tf.float32, shape=[105,1], name='Y')\n",
    "W = tf.Variable(tf.random_normal([2,1]), tf.float32, name='W')\n",
    "b = tf.Variable(tf.zeros([1,1]), tf.float32, name='b')"
   ]
  },
  {
   "cell_type": "markdown",
   "metadata": {},
   "source": [
    "<h2>Define update rule and accuracy</h2>"
   ]
  },
  {
   "cell_type": "code",
   "execution_count": 61,
   "metadata": {},
   "outputs": [],
   "source": [
    "# define the predicted output label\n",
    "Y_hat = tf.round(tf.sigmoid(tf.add(tf.matmul(X, W), b)))\n",
    "# the error between target and logit\n",
    "error = Y - Y_hat\n",
    "\n",
    "# weight and bias update rule w(t+1) = w(t) + learning_rate * error * x\n",
    "dW = tf.matmul(tf.transpose(X), error)\n",
    "db = tf.reduce_sum(error,0)\n",
    "W_ = W + lr * dW\n",
    "b_ = b + lr * db\n",
    "\n",
    "# group two operations together\n",
    "step = tf.group(W.assign(W_), b.assign(b_))"
   ]
  },
  {
   "cell_type": "markdown",
   "metadata": {},
   "source": [
    "<h2>Execute training</h2>"
   ]
  },
  {
   "cell_type": "code",
   "execution_count": 62,
   "metadata": {
    "scrolled": false
   },
   "outputs": [],
   "source": [
    "#initialize tensorflow variables\n",
    "init = tf.global_variables_initializer()\n",
    "acc_list = np.zeros([NUM_ITER])\n",
    "\n",
    "#start tensorflow session\n",
    "with tf.Session() as sess:\n",
    "    #run initialization\n",
    "    sess.run(init)\n",
    "    #training for number of iterations\n",
    "    for i in range(NUM_ITER):\n",
    "        #every iteration we run optimization on the training data X and labels Y\n",
    "        sess.run(step, feed_dict = {X:x_train_1, Y:y_train_1})\n",
    "        err_eval = sess.run(error, feed_dict = {X:x_train_1, Y:y_train_1})\n",
    "        error_rate = float(np.count_nonzero(err_eval)) / err_eval.shape[0]\n",
    "        acc_list[i] = 1 - error_rate\n",
    "        \n",
    "    W = sess.run(W)\n",
    "    b = sess.run(b)"
   ]
  },
  {
   "cell_type": "code",
   "execution_count": 63,
   "metadata": {},
   "outputs": [
    {
     "name": "stdout",
     "output_type": "stream",
     "text": [
      "W = [-1.0494065  -0.01822175]\n",
      "b = -0.45999986\n"
     ]
    }
   ],
   "source": [
    "W = np.squeeze(W)\n",
    "b = np.squeeze(b)\n",
    "print('W =', W)\n",
    "print('b =', b)"
   ]
  },
  {
   "cell_type": "markdown",
   "metadata": {},
   "source": [
    "<h2>Plot</h2>"
   ]
  },
  {
   "cell_type": "code",
   "execution_count": 64,
   "metadata": {},
   "outputs": [
    {
     "data": {
      "image/png": "[encoded data removed]",
      "text/plain": [
       "<Figure size 432x288 with 1 Axes>"
      ]
     },
     "metadata": {
      "needs_background": "light"
     },
     "output_type": "display_data"
    }
   ],
   "source": [
    "plot_x = range(NUM_ITER)\n",
    "plot_y = acc_list\n",
    "plt.plot(plot_x, plot_y, color='k', linewidth=2)\n",
    "plt.xlabel('Epoch')\n",
    "plt.ylabel('Accuracy')\n",
    "plt.show()"
   ]
  },
  {
   "cell_type": "code",
   "execution_count": 65,
   "metadata": {},
   "outputs": [
    {
     "data": {
      "image/png": "[encoded data removed]",
      "text/plain": [
       "<Figure size 432x288 with 1 Axes>"
      ]
     },
     "metadata": {
      "needs_background": "light"
     },
     "output_type": "display_data"
    }
   ],
   "source": [
    "x_train_1_np = x_train_1.to_numpy()\n",
    "plot_x_b = np.array([np.min(x_train_1_np[:, 0] - 0.5), np.max(x_train_1_np[:, 1] + 0.5)])\n",
    "plot_y_b = 1 / W[1] * (- W[0] * plot_x_b - b)\n",
    "plt.scatter(x_train_1_np[:, 0], x_train_1_np[:, 1], c=np.squeeze(y_train_1), \n",
    "            s=100, cmap='viridis')\n",
    "plt.plot(plot_x_b, plot_y_b, color='k', linewidth=1)\n",
    "plt.show()"
   ]
  },
  {
   "cell_type": "code",
   "execution_count": 67,
   "metadata": {},
   "outputs": [],
   "source": [
    "def sigmoid(x, derivative=False):\n",
    "    return x*(1-x) if derivative else 1/(1+np.exp(-x))"
   ]
  },
  {
   "cell_type": "code",
   "execution_count": 73,
   "metadata": {},
   "outputs": [
    {
     "name": "stdout",
     "output_type": "stream",
     "text": [
      "Testing accuracy: 1.0\n"
     ]
    },
    {
     "data": {
      "image/png": "[encoded data removed]",
      "text/plain": [
       "<Figure size 432x288 with 1 Axes>"
      ]
     },
     "metadata": {
      "needs_background": "light"
     },
     "output_type": "display_data"
    }
   ],
   "source": [
    "x_test_1_np = x_test_1.to_numpy()\n",
    "y_hat = np.round(sigmoid(np.add(np.matmul(x_test_1_np, W), b)))\n",
    "error = np.squeeze(y_test_1) - y_hat\n",
    "acc_test = 1 - np.count_nonzero(error) / error.shape[0]\n",
    "print('Testing accuracy:', acc_test)\n",
    "plot_x_b = np.array([np.min(x_test_1_np[:, 0] - 0.5), np.max(x_test_1_np[:, 1] + 0.5)])\n",
    "plot_y_b = 1 / W[1] * (- W[0] * plot_x_b - b)\n",
    "plt.scatter(x_test_1_np[:, 0], x_test_1_np[:, 1], c=np.squeeze(y_test_1), \n",
    "            s=100, cmap='viridis')\n",
    "plt.plot(plot_x_b, plot_y_b, color='k', linewidth=1)\n",
    "plt.show()"
   ]
  },
  {
   "cell_type": "markdown",
   "metadata": {},
   "source": [
    "<h1>Part b:</h1>"
   ]
  },
  {
   "cell_type": "code",
   "execution_count": 74,
   "metadata": {},
   "outputs": [
    {
     "name": "stdout",
     "output_type": "stream",
     "text": [
      "Index(['petal_length', 'petal_width'], dtype='object')\n",
      "species\n"
     ]
    }
   ],
   "source": [
    "x_2,y_2 = data_preprocessing(dataset,2,flower='Iris-virginica')\n",
    "#generate traning and validation sets\n",
    "x_train_2, x_test_2, y_train_2, y_test_2 = train_test_split(x_2,y_2,test_size=0.3)"
   ]
  },
  {
   "cell_type": "markdown",
   "metadata": {},
   "source": [
    "<h2>Define hyper-parameter</h2>"
   ]
  },
  {
   "cell_type": "code",
   "execution_count": 75,
   "metadata": {},
   "outputs": [],
   "source": [
    "NUM_ITER = 100\n",
    "lr = 0.01"
   ]
  },
  {
   "cell_type": "markdown",
   "metadata": {},
   "source": [
    "<h2>Define Placeholder and Variables</h2>"
   ]
  },
  {
   "cell_type": "code",
   "execution_count": 82,
   "metadata": {},
   "outputs": [],
   "source": [
    "tf.reset_default_graph()\n",
    "X = tf.placeholder(tf.float32, shape=[105,2], name='X')\n",
    "Y = tf.placeholder(tf.float32, shape=[105,1], name='Y')\n",
    "W = tf.Variable(tf.random_normal([2,1]), tf.float32, name='W')\n",
    "b = tf.Variable(tf.zeros([1,1]), tf.float32, name='b')"
   ]
  },
  {
   "cell_type": "markdown",
   "metadata": {},
   "source": [
    "<h2>Define update rule and accuracy</h2>"
   ]
  },
  {
   "cell_type": "code",
   "execution_count": 83,
   "metadata": {},
   "outputs": [],
   "source": [
    "# define the predicted output label\n",
    "Y_hat = tf.round(tf.sigmoid(tf.add(tf.matmul(X, W), b)))\n",
    "# the error between target and logit\n",
    "error = Y - Y_hat\n",
    "\n",
    "# weight and bias update rule w(t+1) = w(t) + learning_rate * error * x\n",
    "dW = tf.matmul(tf.transpose(X), error)\n",
    "db = tf.reduce_sum(error,0)\n",
    "W_ = W + lr * dW\n",
    "b_ = b + lr * db\n",
    "\n",
    "# group two operations together\n",
    "step = tf.group(W.assign(W_), b.assign(b_))"
   ]
  },
  {
   "cell_type": "markdown",
   "metadata": {},
   "source": [
    "<h2>Execute training</h2>"
   ]
  },
  {
   "cell_type": "code",
   "execution_count": 84,
   "metadata": {},
   "outputs": [],
   "source": [
    "#initialize tensorflow variables\n",
    "init = tf.global_variables_initializer()\n",
    "acc_list = np.zeros([NUM_ITER])\n",
    "\n",
    "#start tensorflow session\n",
    "with tf.Session() as sess:\n",
    "    #run initialization\n",
    "    sess.run(init)\n",
    "    #training for number of iterations\n",
    "    for i in range(NUM_ITER):\n",
    "        #every iteration we run optimization on the training data X and labels Y\n",
    "        sess.run(step, feed_dict = {X:x_train_2, Y:y_train_2})\n",
    "        err_eval = sess.run(error, feed_dict = {X:x_train_2, Y:y_train_2})\n",
    "        error_rate = float(np.count_nonzero(err_eval)) / err_eval.shape[0]\n",
    "        acc_list[i] = 1 - error_rate\n",
    "        \n",
    "    W = sess.run(W)\n",
    "    b = sess.run(b)"
   ]
  },
  {
   "cell_type": "code",
   "execution_count": 85,
   "metadata": {},
   "outputs": [
    {
     "name": "stdout",
     "output_type": "stream",
     "text": [
      "W = [0.21602157 0.13923934]\n",
      "b = -0.16999988\n"
     ]
    }
   ],
   "source": [
    "W = np.squeeze(W)\n",
    "b = np.squeeze(b)\n",
    "print('W =', W)\n",
    "print('b =', b)"
   ]
  },
  {
   "cell_type": "markdown",
   "metadata": {},
   "source": [
    "<h2>Plot</h2>"
   ]
  },
  {
   "cell_type": "code",
   "execution_count": 86,
   "metadata": {},
   "outputs": [
    {
     "data": {
      "image/png": "[encoded data removed]",
      "text/plain": [
       "<Figure size 432x288 with 1 Axes>"
      ]
     },
     "metadata": {
      "needs_background": "light"
     },
     "output_type": "display_data"
    }
   ],
   "source": [
    "plot_x = range(NUM_ITER)\n",
    "plot_y = acc_list\n",
    "plt.plot(plot_x, plot_y, color='k', linewidth=2)\n",
    "plt.xlabel('Epoch')\n",
    "plt.ylabel('Accuracy')\n",
    "plt.show()"
   ]
  },
  {
   "cell_type": "code",
   "execution_count": 88,
   "metadata": {},
   "outputs": [
    {
     "data": {
      "image/png": "[encoded data removed]",
      "text/plain": [
       "<Figure size 432x288 with 1 Axes>"
      ]
     },
     "metadata": {
      "needs_background": "light"
     },
     "output_type": "display_data"
    }
   ],
   "source": [
    "x_train_2_np = x_train_2.to_numpy()\n",
    "plot_x_b = np.array([np.min(x_train_2_np[:, 0] - 0.5), np.max(x_train_2_np[:, 1] + 0.5)])\n",
    "plot_y_b = 1 / W[1] * (- W[0] * plot_x_b - b)\n",
    "plt.scatter(x_train_2_np[:, 0], x_train_2_np[:, 1], c=np.squeeze(y_train_2), \n",
    "            s=100, cmap='viridis')\n",
    "plt.plot(plot_x_b, plot_y_b, color='k', linewidth=1)\n",
    "plt.show()"
   ]
  },
  {
   "cell_type": "code",
   "execution_count": 89,
   "metadata": {},
   "outputs": [
    {
     "name": "stdout",
     "output_type": "stream",
     "text": [
      "Testing accuracy: 0.9555555555555556\n"
     ]
    },
    {
     "data": {
      "image/png": "[encoded data removed]",
      "text/plain": [
       "<Figure size 432x288 with 1 Axes>"
      ]
     },
     "metadata": {
      "needs_background": "light"
     },
     "output_type": "display_data"
    }
   ],
   "source": [
    "x_test_2_np = x_test_2.to_numpy()\n",
    "y_hat = np.round(sigmoid(np.add(np.matmul(x_test_2_np, W), b)))\n",
    "error = np.squeeze(y_test_2) - y_hat\n",
    "acc_test = 1 - np.count_nonzero(error) / error.shape[0]\n",
    "print('Testing accuracy:', acc_test)\n",
    "plot_x_b = np.array([np.min(x_test_2_np[:, 0] - 0.5), np.max(x_test_2_np[:, 1] + 0.5)])\n",
    "plot_y_b = 1 / W[1] * (- W[0] * plot_x_b - b)\n",
    "plt.scatter(x_test_2_np[:, 0], x_test_2_np[:, 1], c=np.squeeze(y_test_2), \n",
    "            s=100, cmap='viridis')\n",
    "plt.plot(plot_x_b, plot_y_b, color='k', linewidth=1)\n",
    "plt.show()"
   ]
  },
  {
   "cell_type": "markdown",
   "metadata": {},
   "source": [
    "The testing accuracy is not 100%. This is because the data are not linear separatable."
   ]
  },
  {
   "cell_type": "markdown",
   "metadata": {},
   "source": [
    "<h1>Part c:</h1>"
   ]
  },
  {
   "cell_type": "code",
   "execution_count": 90,
   "metadata": {},
   "outputs": [
    {
     "name": "stdout",
     "output_type": "stream",
     "text": [
      "Index(['sepal_length', 'sepal_width', 'petal_length', 'petal_width'], dtype='object')\n",
      "species\n"
     ]
    }
   ],
   "source": [
    "x_3,y_3 = data_preprocessing(dataset,4)\n",
    "#generate traning and validation sets\n",
    "x_train_3, x_test_3, y_train_3, y_test_3 = train_test_split(x_3,y_3,test_size=0.3)"
   ]
  },
  {
   "cell_type": "markdown",
   "metadata": {},
   "source": [
    "<h2>Define hyper-parameters</h2>"
   ]
  },
  {
   "cell_type": "code",
   "execution_count": 91,
   "metadata": {},
   "outputs": [],
   "source": [
    "NUM_ITER = 100\n",
    "lr = 0.01\n",
    "n_hidden_1 = 256\n",
    "n_hidden_2 = 128\n",
    "num_input = 4\n",
    "num_classes = 3"
   ]
  },
  {
   "cell_type": "markdown",
   "metadata": {},
   "source": [
    "<h2>Define placehoder and variables</h2>"
   ]
  },
  {
   "cell_type": "code",
   "execution_count": 92,
   "metadata": {},
   "outputs": [],
   "source": [
    "tf.reset_default_graph()\n",
    "X = tf.placeholder(tf.float32, [None, num_input], name='X')\n",
    "Y = tf.placeholder(tf.int32, [None, num_classes], name='Y')\n",
    "weights = {\n",
    "    'W1': tf.Variable(tf.random_normal([num_input, n_hidden_1]), name='W1'),\n",
    "    'W2': tf.Variable(tf.random_normal([n_hidden_1, n_hidden_2]), name='W2'),\n",
    "    'Wout': tf.Variable(tf.random_normal([n_hidden_2, num_classes]), name='Wout')\n",
    "}\n",
    "biases = {\n",
    "    'b1': tf.Variable(tf.zeros(shape=[n_hidden_1]), name='b1'),\n",
    "    'b2': tf.Variable(tf.zeros(shape=[n_hidden_2]), name='b2'),\n",
    "    'bout': tf.Variable(tf.zeros(shape=[num_classes]), name='bout')\n",
    "}"
   ]
  },
  {
   "cell_type": "markdown",
   "metadata": {},
   "source": [
    "<h2>Define the neural network</h2>"
   ]
  },
  {
   "cell_type": "code",
   "execution_count": 94,
   "metadata": {},
   "outputs": [],
   "source": [
    "l1_out = tf.nn.relu(tf.add(tf.matmul(X, weights['W1']), biases['b1']))\n",
    "l2_out = tf.nn.relu(tf.add(tf.matmul(l1_out, weights['W2']), biases['b2']))\n",
    "out = tf.add(tf.matmul(l2_out, weights['Wout']), biases['bout'])"
   ]
  },
  {
   "cell_type": "markdown",
   "metadata": {},
   "source": [
    "<h2>Define cost function and accuracy</h2>"
   ]
  },
  {
   "cell_type": "code",
   "execution_count": 97,
   "metadata": {},
   "outputs": [],
   "source": [
    "#define loss\n",
    "loss = tf.reduce_mean(tf.nn.softmax_cross_entropy_with_logits_v2(logits=out, labels=Y))\n",
    "#define optimizer\n",
    "optimizer = tf.train.GradientDescentOptimizer(learning_rate=lr)\n",
    "train_op = optimizer.minimize(loss)\n",
    "\n",
    "#compare the predicted labels with true labels\n",
    "correct_pred = tf.equal(tf.argmax(out, 1),tf.argmax(Y,1))\n",
    "\n",
    "#compute the accuracy by taking average\n",
    "accuracy = tf.reduce_mean(tf.cast(correct_pred,tf.float32),name='accuracy')\n"
   ]
  },
  {
   "cell_type": "markdown",
   "metadata": {},
   "source": [
    "<h2>Execute training</h2>"
   ]
  },
  {
   "cell_type": "code",
   "execution_count": 99,
   "metadata": {
    "scrolled": true
   },
   "outputs": [
    {
     "name": "stdout",
     "output_type": "stream",
     "text": [
      "epoch 0: accuracy 0.676190\n",
      "epoch 1: accuracy 0.800000\n",
      "epoch 2: accuracy 0.847619\n",
      "epoch 3: accuracy 0.866667\n",
      "epoch 4: accuracy 0.866667\n",
      "epoch 5: accuracy 0.857143\n",
      "epoch 6: accuracy 0.876190\n",
      "epoch 7: accuracy 0.866667\n",
      "epoch 8: accuracy 0.885714\n",
      "epoch 9: accuracy 0.866667\n",
      "epoch 10: accuracy 0.885714\n",
      "epoch 11: accuracy 0.885714\n",
      "epoch 12: accuracy 0.866667\n",
      "epoch 13: accuracy 0.914286\n",
      "epoch 14: accuracy 0.895238\n",
      "epoch 15: accuracy 0.895238\n",
      "epoch 16: accuracy 0.866667\n",
      "epoch 17: accuracy 0.952381\n",
      "epoch 18: accuracy 0.961905\n",
      "epoch 19: accuracy 0.971429\n",
      "epoch 20: accuracy 0.971429\n",
      "epoch 21: accuracy 0.961905\n",
      "epoch 22: accuracy 0.980952\n",
      "epoch 23: accuracy 0.971429\n",
      "epoch 24: accuracy 0.961905\n",
      "epoch 25: accuracy 0.942857\n",
      "epoch 26: accuracy 0.942857\n",
      "epoch 27: accuracy 0.933333\n",
      "epoch 28: accuracy 0.933333\n",
      "epoch 29: accuracy 0.904762\n",
      "epoch 30: accuracy 0.971429\n",
      "epoch 31: accuracy 0.990476\n",
      "epoch 32: accuracy 1.000000\n",
      "epoch 33: accuracy 1.000000\n",
      "epoch 34: accuracy 1.000000\n",
      "epoch 35: accuracy 1.000000\n",
      "epoch 36: accuracy 1.000000\n",
      "epoch 37: accuracy 1.000000\n",
      "epoch 38: accuracy 1.000000\n",
      "epoch 39: accuracy 1.000000\n",
      "epoch 40: accuracy 1.000000\n",
      "epoch 41: accuracy 1.000000\n",
      "epoch 42: accuracy 1.000000\n",
      "epoch 43: accuracy 1.000000\n",
      "epoch 44: accuracy 1.000000\n",
      "epoch 45: accuracy 1.000000\n",
      "epoch 46: accuracy 1.000000\n",
      "epoch 47: accuracy 1.000000\n",
      "epoch 48: accuracy 1.000000\n",
      "epoch 49: accuracy 1.000000\n",
      "epoch 50: accuracy 1.000000\n",
      "epoch 51: accuracy 1.000000\n",
      "epoch 52: accuracy 1.000000\n",
      "epoch 53: accuracy 1.000000\n",
      "epoch 54: accuracy 1.000000\n",
      "epoch 55: accuracy 1.000000\n",
      "epoch 56: accuracy 1.000000\n",
      "epoch 57: accuracy 1.000000\n",
      "epoch 58: accuracy 1.000000\n",
      "epoch 59: accuracy 1.000000\n",
      "epoch 60: accuracy 1.000000\n",
      "epoch 61: accuracy 1.000000\n",
      "epoch 62: accuracy 1.000000\n",
      "epoch 63: accuracy 1.000000\n",
      "epoch 64: accuracy 1.000000\n",
      "epoch 65: accuracy 1.000000\n",
      "epoch 66: accuracy 1.000000\n",
      "epoch 67: accuracy 1.000000\n",
      "epoch 68: accuracy 1.000000\n",
      "epoch 69: accuracy 1.000000\n",
      "epoch 70: accuracy 1.000000\n",
      "epoch 71: accuracy 1.000000\n",
      "epoch 72: accuracy 1.000000\n",
      "epoch 73: accuracy 1.000000\n",
      "epoch 74: accuracy 1.000000\n",
      "epoch 75: accuracy 1.000000\n",
      "epoch 76: accuracy 1.000000\n",
      "epoch 77: accuracy 1.000000\n",
      "epoch 78: accuracy 1.000000\n",
      "epoch 79: accuracy 1.000000\n",
      "epoch 80: accuracy 1.000000\n",
      "epoch 81: accuracy 1.000000\n",
      "epoch 82: accuracy 1.000000\n",
      "epoch 83: accuracy 1.000000\n",
      "epoch 84: accuracy 1.000000\n",
      "epoch 85: accuracy 1.000000\n",
      "epoch 86: accuracy 1.000000\n",
      "epoch 87: accuracy 1.000000\n",
      "epoch 88: accuracy 1.000000\n",
      "epoch 89: accuracy 1.000000\n",
      "epoch 90: accuracy 1.000000\n",
      "epoch 91: accuracy 1.000000\n",
      "epoch 92: accuracy 1.000000\n",
      "epoch 93: accuracy 1.000000\n",
      "epoch 94: accuracy 1.000000\n",
      "epoch 95: accuracy 1.000000\n",
      "epoch 96: accuracy 1.000000\n",
      "epoch 97: accuracy 1.000000\n",
      "epoch 98: accuracy 1.000000\n",
      "epoch 99: accuracy 1.000000\n"
     ]
    }
   ],
   "source": [
    "init = tf.global_variables_initializer()\n",
    "acc_list = np.zeros([NUM_ITER])\n",
    "\n",
    "with tf.Session() as sess:\n",
    "    sess.run(init)\n",
    "    \n",
    "    for i in range(NUM_ITER):\n",
    "        #run optimization\n",
    "        sess.run(train_op, feed_dict={X:x_train_3, Y:y_train_3})\n",
    "        acc = sess.run(accuracy, feed_dict={X:x_train_3, Y:y_train_3})\n",
    "        acc_list[i] = acc\n",
    "        print(\"epoch %d: accuracy %f\" % (i, acc))\n",
    "        \n",
    "    acc_test = sess.run(accuracy, feed_dict={X:x_test_3, Y:y_test_3})"
   ]
  },
  {
   "cell_type": "code",
   "execution_count": 100,
   "metadata": {},
   "outputs": [
    {
     "name": "stdout",
     "output_type": "stream",
     "text": [
      "Testing accuracy: 0.9111111\n"
     ]
    }
   ],
   "source": [
    "print(\"Testing accuracy:\", acc_test)"
   ]
  },
  {
   "cell_type": "markdown",
   "metadata": {},
   "source": [
    "<h2>Plot</h2>"
   ]
  },
  {
   "cell_type": "code",
   "execution_count": 101,
   "metadata": {},
   "outputs": [
    {
     "data": {
      "image/png": "[encoded data removed]",
      "text/plain": [
       "<Figure size 432x288 with 1 Axes>"
      ]
     },
     "metadata": {
      "needs_background": "light"
     },
     "output_type": "display_data"
    }
   ],
   "source": [
    "plot_x = range(NUM_ITER)\n",
    "plot_y = acc_list\n",
    "plt.plot(plot_x, plot_y, color='k', linewidth=2)\n",
    "plt.xlabel('Epoch')\n",
    "plt.ylabel('Accuracy')\n",
    "plt.show()"
   ]
  },
  {
   "cell_type": "code",
   "execution_count": null,
   "metadata": {},
   "outputs": [],
   "source": []
  }
 ],
 "metadata": {
  "kernelspec": {
   "display_name": "Python 3",
   "language": "python",
   "name": "python3"
  },
  "language_info": {
   "codemirror_mode": {
    "name": "ipython",
    "version": 3
   },
   "file_extension": ".py",
   "mimetype": "text/x-python",
   "name": "python",
   "nbconvert_exporter": "python",
   "pygments_lexer": "ipython3",
   "version": "3.5.2"
  }
 },
 "nbformat": 4,
 "nbformat_minor": 2
}
