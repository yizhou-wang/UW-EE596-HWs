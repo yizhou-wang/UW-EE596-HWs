{
 "cells": [
  {
   "cell_type": "code",
   "execution_count": 1,
   "metadata": {},
   "outputs": [],
   "source": [
    "import tensorflow as tf\n",
    "import numpy as np\n",
    "import matplotlib.pyplot as plt"
   ]
  },
  {
   "cell_type": "markdown",
   "metadata": {},
   "source": [
    "<h2>Define Hyper-parameters</h2>"
   ]
  },
  {
   "cell_type": "code",
   "execution_count": 30,
   "metadata": {},
   "outputs": [],
   "source": [
    "NUM_ITER = 1000\n",
    "lr = 1"
   ]
  },
  {
   "cell_type": "markdown",
   "metadata": {},
   "source": [
    "<h2>Define your input data and expected labels</h2>"
   ]
  },
  {
   "cell_type": "code",
   "execution_count": 31,
   "metadata": {},
   "outputs": [],
   "source": [
    "# training data\n",
    "x = np.array([[0,0],[1,0],[1,1],[0,1]], np.float32)\n",
    "# training labels for XOR\n",
    "y = np.array([0,1,0,1], np.float32)\n",
    "y = np.reshape(y, [4,1])"
   ]
  },
  {
   "cell_type": "markdown",
   "metadata": {},
   "source": [
    "<h2>Define placeholder and Variables</h2>"
   ]
  },
  {
   "cell_type": "code",
   "execution_count": 40,
   "metadata": {},
   "outputs": [],
   "source": [
    "# define the placeholder to feed the training data later\n",
    "X = tf.placeholder(tf.float32,shape=[4,2], name='X')\n",
    "Y = tf.placeholder(tf.float32,shape=[4,1], name='Y')\n",
    "# define the weights and initialized with random normal distribution\n",
    "W1 = tf.Variable(tf.random_normal([2,2]), tf.float32, name='W1')\n",
    "W2 = tf.Variable(tf.random_normal([2,1]), tf.float32, name='W2')\n",
    "# define the bias with zero initialization\n",
    "b1 = tf.Variable(tf.zeros([1,2]),tf.float32, name='b1')\n",
    "b2 = tf.Variable(tf.zeros([1,1]),tf.float32, name='b2')"
   ]
  },
  {
   "cell_type": "markdown",
   "metadata": {},
   "source": [
    "<h2>Define the neural network</h2>"
   ]
  },
  {
   "cell_type": "code",
   "execution_count": 41,
   "metadata": {},
   "outputs": [],
   "source": [
    "# define the predicted output label\n",
    "X1_out = tf.sigmoid(tf.add(tf.matmul(X, W1), b1))\n",
    "Y_hat = tf.add(tf.matmul(X1_out, W2), b2)"
   ]
  },
  {
   "cell_type": "markdown",
   "metadata": {},
   "source": [
    "<h2>Define cost function</h2>"
   ]
  },
  {
   "cell_type": "code",
   "execution_count": 42,
   "metadata": {},
   "outputs": [],
   "source": [
    "# the error between target and logit\n",
    "loss = tf.losses.sigmoid_cross_entropy(Y, Y_hat)\n",
    "step = tf.train.GradientDescentOptimizer(lr).minimize(loss)\n",
    "# define accuracy\n",
    "Y_out = tf.round(tf.sigmoid(Y_hat))\n",
    "error_eval = tf.count_nonzero(Y - Y_out)"
   ]
  },
  {
   "cell_type": "markdown",
   "metadata": {},
   "source": [
    "<h2>Execute training</h2>"
   ]
  },
  {
   "cell_type": "code",
   "execution_count": 43,
   "metadata": {
    "scrolled": true
   },
   "outputs": [
    {
     "name": "stdout",
     "output_type": "stream",
     "text": [
      "epoch 0: loss 0.695176, accuracy 0.500000\n",
      "epoch 10: loss 0.692447, accuracy 0.500000\n",
      "epoch 20: loss 0.691822, accuracy 0.500000\n",
      "epoch 30: loss 0.690884, accuracy 0.500000\n",
      "epoch 40: loss 0.689453, accuracy 0.500000\n",
      "epoch 50: loss 0.687274, accuracy 0.500000\n",
      "epoch 60: loss 0.684014, accuracy 0.500000\n",
      "epoch 70: loss 0.679297, accuracy 0.500000\n",
      "epoch 80: loss 0.672796, accuracy 0.500000\n",
      "epoch 90: loss 0.664340, accuracy 0.500000\n",
      "epoch 100: loss 0.653983, accuracy 0.750000\n",
      "epoch 110: loss 0.641998, accuracy 0.750000\n",
      "epoch 120: loss 0.628850, accuracy 0.750000\n",
      "epoch 130: loss 0.615149, accuracy 0.750000\n",
      "epoch 140: loss 0.601542, accuracy 0.750000\n",
      "epoch 150: loss 0.588579, accuracy 0.750000\n",
      "epoch 160: loss 0.576608, accuracy 0.750000\n",
      "epoch 170: loss 0.565771, accuracy 0.750000\n",
      "epoch 180: loss 0.556045, accuracy 0.750000\n",
      "epoch 190: loss 0.547305, accuracy 0.750000\n",
      "epoch 200: loss 0.539378, accuracy 0.750000\n",
      "epoch 210: loss 0.532070, accuracy 0.750000\n",
      "epoch 220: loss 0.525193, accuracy 0.750000\n",
      "epoch 230: loss 0.518568, accuracy 0.750000\n",
      "epoch 240: loss 0.512036, accuracy 0.750000\n",
      "epoch 250: loss 0.505444, accuracy 0.750000\n",
      "epoch 260: loss 0.498641, accuracy 0.750000\n",
      "epoch 270: loss 0.491462, accuracy 0.750000\n",
      "epoch 280: loss 0.483716, accuracy 0.750000\n",
      "epoch 290: loss 0.475156, accuracy 0.750000\n",
      "epoch 300: loss 0.465443, accuracy 0.750000\n",
      "epoch 310: loss 0.454068, accuracy 0.750000\n",
      "epoch 320: loss 0.440284, accuracy 0.750000\n",
      "epoch 330: loss 0.423115, accuracy 0.750000\n",
      "epoch 340: loss 0.401694, accuracy 0.750000\n",
      "epoch 350: loss 0.375919, accuracy 1.000000\n",
      "epoch 360: loss 0.346818, accuracy 1.000000\n",
      "epoch 370: loss 0.316062, accuracy 1.000000\n",
      "epoch 380: loss 0.285296, accuracy 1.000000\n",
      "epoch 390: loss 0.255846, accuracy 1.000000\n",
      "epoch 400: loss 0.228648, accuracy 1.000000\n",
      "epoch 410: loss 0.204226, accuracy 1.000000\n",
      "epoch 420: loss 0.182734, accuracy 1.000000\n",
      "epoch 430: loss 0.164065, accuracy 1.000000\n",
      "epoch 440: loss 0.147958, accuracy 1.000000\n",
      "epoch 450: loss 0.134097, accuracy 1.000000\n",
      "epoch 460: loss 0.122157, accuracy 1.000000\n",
      "epoch 470: loss 0.111845, accuracy 1.000000\n",
      "epoch 480: loss 0.102901, accuracy 1.000000\n",
      "epoch 490: loss 0.095106, accuracy 1.000000\n",
      "epoch 500: loss 0.088277, accuracy 1.000000\n",
      "epoch 510: loss 0.082263, accuracy 1.000000\n",
      "epoch 520: loss 0.076939, accuracy 1.000000\n",
      "epoch 530: loss 0.072201, accuracy 1.000000\n",
      "epoch 540: loss 0.067966, accuracy 1.000000\n",
      "epoch 550: loss 0.064161, accuracy 1.000000\n",
      "epoch 560: loss 0.060729, accuracy 1.000000\n",
      "epoch 570: loss 0.057619, accuracy 1.000000\n",
      "epoch 580: loss 0.054792, accuracy 1.000000\n",
      "epoch 590: loss 0.052211, accuracy 1.000000\n",
      "epoch 600: loss 0.049849, accuracy 1.000000\n",
      "epoch 610: loss 0.047678, accuracy 1.000000\n",
      "epoch 620: loss 0.045678, accuracy 1.000000\n",
      "epoch 630: loss 0.043829, accuracy 1.000000\n",
      "epoch 640: loss 0.042117, accuracy 1.000000\n",
      "epoch 650: loss 0.040527, accuracy 1.000000\n",
      "epoch 660: loss 0.039047, accuracy 1.000000\n",
      "epoch 670: loss 0.037665, accuracy 1.000000\n",
      "epoch 680: loss 0.036374, accuracy 1.000000\n",
      "epoch 690: loss 0.035164, accuracy 1.000000\n",
      "epoch 700: loss 0.034029, accuracy 1.000000\n",
      "epoch 710: loss 0.032961, accuracy 1.000000\n",
      "epoch 720: loss 0.031955, accuracy 1.000000\n",
      "epoch 730: loss 0.031007, accuracy 1.000000\n",
      "epoch 740: loss 0.030111, accuracy 1.000000\n",
      "epoch 750: loss 0.029263, accuracy 1.000000\n",
      "epoch 760: loss 0.028460, accuracy 1.000000\n",
      "epoch 770: loss 0.027698, accuracy 1.000000\n",
      "epoch 780: loss 0.026974, accuracy 1.000000\n",
      "epoch 790: loss 0.026286, accuracy 1.000000\n",
      "epoch 800: loss 0.025630, accuracy 1.000000\n",
      "epoch 810: loss 0.025006, accuracy 1.000000\n",
      "epoch 820: loss 0.024410, accuracy 1.000000\n",
      "epoch 830: loss 0.023841, accuracy 1.000000\n",
      "epoch 840: loss 0.023296, accuracy 1.000000\n",
      "epoch 850: loss 0.022776, accuracy 1.000000\n",
      "epoch 860: loss 0.022277, accuracy 1.000000\n",
      "epoch 870: loss 0.021799, accuracy 1.000000\n",
      "epoch 880: loss 0.021340, accuracy 1.000000\n",
      "epoch 890: loss 0.020900, accuracy 1.000000\n",
      "epoch 900: loss 0.020477, accuracy 1.000000\n",
      "epoch 910: loss 0.020070, accuracy 1.000000\n",
      "epoch 920: loss 0.019679, accuracy 1.000000\n",
      "epoch 930: loss 0.019302, accuracy 1.000000\n",
      "epoch 940: loss 0.018939, accuracy 1.000000\n",
      "epoch 950: loss 0.018588, accuracy 1.000000\n",
      "epoch 960: loss 0.018251, accuracy 1.000000\n",
      "epoch 970: loss 0.017924, accuracy 1.000000\n",
      "epoch 980: loss 0.017609, accuracy 1.000000\n",
      "epoch 990: loss 0.017305, accuracy 1.000000\n"
     ]
    }
   ],
   "source": [
    "# initialize tensorflow variables\n",
    "init = tf.global_variables_initializer()\n",
    "\n",
    "# start tensorflow session\n",
    "with tf.Session() as sess:\n",
    "    # run initialization\n",
    "    sess.run(init)\n",
    "    # training for number of iterations\n",
    "    for i in range(NUM_ITER):\n",
    "        # every iteration we run optimization on the training data X and labels Y\n",
    "        sess.run(step, feed_dict={X:x, Y:y})\n",
    "        \n",
    "        if i % 10 == 0:\n",
    "            loss_value = sess.run(loss, feed_dict = {X:x,Y:y})\n",
    "            error_num = sess.run(error_eval, feed_dict = {X:x,Y:y})\n",
    "            print('epoch %d: loss %f, accuracy %f' % (i, loss_value, 1 - error_num / 4.0))\n",
    "    \n",
    "    Y_out = sess.run(Y_out, feed_dict = {X:x, Y:y})   \n",
    "    \n",
    "    # after training, we acquire the weight and bias\n",
    "    W1 = np.squeeze(sess.run(W1))\n",
    "    W2 = np.squeeze(sess.run(W2))\n",
    "    b1 = np.squeeze(sess.run(b1))\n",
    "    b2 = np.squeeze(sess.run(b2))"
   ]
  },
  {
   "cell_type": "code",
   "execution_count": 44,
   "metadata": {},
   "outputs": [
    {
     "name": "stdout",
     "output_type": "stream",
     "text": [
      "W1 = [[ 4.664094 -6.684856]\n",
      " [ 4.662728 -6.67364 ]]\n",
      "W2 = [-9.98065  -9.813463]\n",
      "b1 = [-7.2285314  2.629155 ]\n",
      "b2 = 4.8571153\n",
      "Y_out = [[0.]\n",
      " [1.]\n",
      " [0.]\n",
      " [1.]]\n"
     ]
    }
   ],
   "source": [
    "print('W1 =', W1)\n",
    "print('W2 =', W2)\n",
    "print('b1 =', b1)\n",
    "print('b2 =', b2)\n",
    "print('Y_out =', Y_out)"
   ]
  },
  {
   "cell_type": "markdown",
   "metadata": {},
   "source": [
    "<h2>Plot</h2>"
   ]
  },
  {
   "cell_type": "code",
   "execution_count": 45,
   "metadata": {},
   "outputs": [
    {
     "data": {
      "image/png": "[encoded data removed]",
      "text/plain": [
       "<Figure size 432x288 with 1 Axes>"
      ]
     },
     "metadata": {
      "needs_background": "light"
     },
     "output_type": "display_data"
    }
   ],
   "source": [
    "# plot out the decision line \n",
    "plot_x = np.array([np.min(x[:, 0] - 0.2), np.max(x[:, 1] + 0.2)])\n",
    "plot_y1 = 1 / W1[1,0] * (- W1[0,0] * plot_x - b1[0])\n",
    "plot_y2 = 1 / W1[1,1] * (- W1[0,1] * plot_x - b1[1])\n",
    "\n",
    "plt.scatter(x[:, 0], x[:, 1], c=np.squeeze(y), s=100, cmap='viridis')\n",
    "plt.plot(plot_x, plot_y1, color='b', linewidth=1)\n",
    "plt.plot(plot_x, plot_y2, color='b', linewidth=1)\n",
    "plt.xlim([-0.2, 1.2]); plt.ylim([-0.2, 1.2]);\n",
    "plt.show()"
   ]
  },
  {
   "cell_type": "code",
   "execution_count": null,
   "metadata": {},
   "outputs": [],
   "source": []
  }
 ],
 "metadata": {
  "kernelspec": {
   "display_name": "Python 3",
   "language": "python",
   "name": "python3"
  },
  "language_info": {
   "codemirror_mode": {
    "name": "ipython",
    "version": 3
   },
   "file_extension": ".py",
   "mimetype": "text/x-python",
   "name": "python",
   "nbconvert_exporter": "python",
   "pygments_lexer": "ipython3",
   "version": "3.5.2"
  }
 },
 "nbformat": 4,
 "nbformat_minor": 2
}
